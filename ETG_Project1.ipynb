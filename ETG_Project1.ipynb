{
  "nbformat": 4,
  "nbformat_minor": 0,
  "metadata": {
    "colab": {
      "name": "Project1.ipynb",
      "provenance": [],
      "collapsed_sections": []
    },
    "kernelspec": {
      "display_name": "Python 3",
      "name": "python3"
    },
    "language_info": {
      "name": "python"
    }
  },
  "cells": [
    {
      "cell_type": "markdown",
      "metadata": {
        "id": "IqzD0Zawiref"
      },
      "source": [
        "Load Txt File Into JSON Format "
      ]
    },
    {
      "cell_type": "code",
      "metadata": {
        "colab": {
          "base_uri": "https://localhost:8080/"
        },
        "id": "cX14ReSt2Qob",
        "outputId": "a70433ec-b47e-4240-f408-a1fd5b38630b"
      },
      "source": [
        "import json\n",
        "fd=open(\"/store.json\",\"r\");\n",
        "txt=fd.read()\n",
        "records=json.loads(txt)\n",
        "print(records)"
      ],
      "execution_count": null,
      "outputs": [
        {
          "output_type": "stream",
          "name": "stdout",
          "text": [
            "{'2001': {'name': 'Cadbury Diary Milk', 'qty': '45', 'pr': '10', 'mfg': '09/21', 'exp': '03/22'}, '2002': {'name': 'Cadbury Five Star', 'qty': '78', 'pr': '15', 'mfg': '06/21', 'exp': '12/21'}, '2003': {'name': 'Snickers', 'qty': '85', 'pr': '20', 'mfg': '04/21', 'exp': '09/21'}, '2004': {'name': 'Milano', 'qty': '25', 'pr': '30', 'mfg': '10/21', 'exp': '03/22'}, '2005': {'name': 'Choco Fudge Ice Cream', 'qty': '45', 'pr': '10', 'mfg': '09/21', 'exp': '03/22'}, '2006': {'name': 'Choco Brownie Cake', 'qty': '35', 'pr': '230', 'mfg': '19/09/21', 'exp': '22/09/22'}, '2007': {'name': 'Bourbon', 'qty': '98', 'pr': '35', 'mfg': '09/21', 'exp': '03/22'}, '2008': {'name': 'White Chocolate Cake', 'qty': '19', 'pr': '405', 'mfg': '21/09/21', 'exp': '25/09/22'}, '2009': {'name': 'Cornetto Butter Scotch', 'qty': '25', 'pr': '10', 'mfg': '09/21', 'exp': '12/21'}, '2010': {'name': 'Black Forest Cake', 'qty': '10', 'pr': '310', 'mfg': '21/09/21', 'exp': '24/09/21'}}\n"
          ]
        }
      ]
    },
    {
      "cell_type": "markdown",
      "metadata": {
        "id": "dEOZ2CHG6Qre"
      },
      "source": [
        "List Of Products And P_Id\n"
      ]
    },
    {
      "cell_type": "code",
      "metadata": {
        "id": "3m71QdpV6bsg",
        "colab": {
          "base_uri": "https://localhost:8080/"
        },
        "outputId": "b026204f-3824-446f-ae9b-89e1c416304c"
      },
      "source": [
        "print(\"#########################\")\n",
        "print(\"-------------------------\")\n",
        "print(\"P_Id-||-Product_Name\")\n",
        "for i in records:\n",
        "  print(i+\"-||-\"+records[i][\"name\"])\n",
        "print(\"-------------------------\")\n",
        "print(\"#########################\")\n"
      ],
      "execution_count": null,
      "outputs": [
        {
          "output_type": "stream",
          "name": "stdout",
          "text": [
            "#########################\n",
            "-------------------------\n",
            "P_Id-||-Product_Name\n",
            "2001-||-Cadbury Diary Milk\n",
            "2002-||-Cadbury Five Star\n",
            "2003-||-Snickers\n",
            "2004-||-Milano\n",
            "2005-||-Choco Fudge Ice Cream\n",
            "2006-||-Choco Brownie Cake\n",
            "2007-||-Bourbon\n",
            "2008-||-White Chocolate Cake\n",
            "2009-||-Cornetto Butter Scotch\n",
            "2010-||-Black Forest Cake\n",
            "-------------------------\n",
            "#########################\n"
          ]
        }
      ]
    },
    {
      "cell_type": "markdown",
      "metadata": {
        "id": "_th1txdhj-TC"
      },
      "source": [
        "Purchase From Store And Update\n"
      ]
    },
    {
      "cell_type": "code",
      "metadata": {
        "colab": {
          "base_uri": "https://localhost:8080/"
        },
        "id": "m49AuhcI5enO",
        "outputId": "d72ce55b-ddb4-4f73-a356-81aaab717527"
      },
      "source": [
        "import json\n",
        "pd_id=(input(\"Enter Product Id:\"))\n",
        "nm=input(\"Enter Product Name:\")\n",
        "qt=int(input(\"Enter Quantity Required:\"))\n",
        "rs=0\n",
        "for i in records:\n",
        "  if(pd_id==i):\n",
        "    rs=int(records[i]['pr'])*qt\n",
        "    records[i]['qty']=str(int(records[i]['qty'])-qt)\n",
        "    print(\"#########################\")\n",
        "    print(\"-------------------------\")\n",
        "    print(\"P_Id || Product_Name || Quantity || MFG_DATE || EXP_Date\")\n",
        "    print(i+\" || \"+records[i][\"name\"]+\" || \"+records[i][\"qty\"]+\" || \"+records[i][\"mfg\"]+\" || \"+records[i][\"exp\"])\n",
        "    print(\"Total Bill:\"+\"Rs:\",rs)\n",
        "    print(\"-------------------------\")\n",
        "    print(\"#########################\")\n",
        "js=json.dumps(records)\n",
        "fd=open(\"/store.json\",\"w\");\n",
        "fd.write(js)\n",
        "fd.close()\n",
        "\n",
        "\n",
        "\n"
      ],
      "execution_count": null,
      "outputs": [
        {
          "output_type": "stream",
          "name": "stdout",
          "text": [
            "Enter Product Id:2001\n",
            "Enter Product Name:dm\n",
            "Enter Quantity Required:2\n",
            "#########################\n",
            "-------------------------\n",
            "P_Id || Product_Name || Quantity || MFG_DATE || EXP_Date\n",
            "2001 || Cadbury Diary Milk || 43 || 09/21 || 03/22\n",
            "Total Bill:Rs: 20\n",
            "-------------------------\n",
            "#########################\n"
          ]
        }
      ]
    },
    {
      "cell_type": "markdown",
      "metadata": {
        "id": "ATnkGk0sjubk"
      },
      "source": [
        "Add New Item To Inventory\n"
      ]
    },
    {
      "cell_type": "code",
      "metadata": {
        "colab": {
          "base_uri": "https://localhost:8080/"
        },
        "id": "uohpCKqojs25",
        "outputId": "3d80e875-d51f-453c-b616-516613d732c7"
      },
      "source": [
        "import json\n",
        "pd_id=(input(\"Enter Product Id:\"))\n",
        "nm=input(\"Enter Product Name:\")\n",
        "qt=(input(\"Enter Quantity :\"))\n",
        "pri=input(\"Enter Price:\")\n",
        "mfd=input(\"Enter Manufacturing Date:\")\n",
        "exd=input(\"Enter Expiry Date:\")\n",
        "if(pd_id in records):\n",
        "  print(\"Pd_Id already exists\")\n",
        "else:\n",
        "  records[pd_id]={'name':nm,'qty':qt,'pr':pri,'mfg':mfd,'exp':exd}\n",
        "  js=json.dumps(records)\n",
        "  fd=open(\"/store.json\",\"w\")\n",
        "  fd.write(js)\n",
        "  fd.close()"
      ],
      "execution_count": null,
      "outputs": [
        {
          "output_type": "stream",
          "name": "stdout",
          "text": [
            "Enter Product Id:2012\n",
            "Enter Product Name:Hide and Seek\n",
            "Enter Quantity :34\n",
            "Enter Price:35\n",
            "Enter Manufacturing Date:11/21\n",
            "Enter Expiry Date:03/22\n",
            "{'2001': {'name': 'Cadbury Diary Milk', 'qty': '43', 'pr': '10', 'mfg': '09/21', 'exp': '03/22'}, '2002': {'name': 'Cadbury Five Star', 'qty': '78', 'pr': '15', 'mfg': '06/21', 'exp': '12/21'}, '2003': {'name': 'Snickers', 'qty': '85', 'pr': '20', 'mfg': '04/21', 'exp': '09/21'}, '2004': {'name': 'Milano', 'qty': '25', 'pr': '30', 'mfg': '10/21', 'exp': '03/22'}, '2005': {'name': 'Choco Fudge Ice Cream', 'qty': '45', 'pr': '10', 'mfg': '09/21', 'exp': '03/22'}, '2006': {'name': 'Choco Brownie Cake', 'qty': '35', 'pr': '230', 'mfg': '19/09/21', 'exp': '22/09/22'}, '2007': {'name': 'Bourbon', 'qty': '98', 'pr': '35', 'mfg': '09/21', 'exp': '03/22'}, '2008': {'name': 'White Chocolate Cake', 'qty': '19', 'pr': '405', 'mfg': '21/09/21', 'exp': '25/09/22'}, '2009': {'name': 'Cornetto Butter Scotch', 'qty': '25', 'pr': '10', 'mfg': '09/21', 'exp': '12/21'}, '2010': {'name': 'Black Forest Cake', 'qty': '10', 'pr': '310', 'mfg': '21/09/21', 'exp': '24/09/21'}, '2011': {'name': 'Parle G', 'qty': '23', 'pr': '5', 'mfg': '09/21', 'exp': '04/22'}, '2012': {'name': 'Hide and Seek', 'qty': '34', 'pr': '35', 'mfg': '11/21', 'exp': '03/22'}}\n"
          ]
        }
      ]
    },
    {
      "cell_type": "markdown",
      "metadata": {
        "id": "k2W0dtGsrZl7"
      },
      "source": [
        "SALES OF STORE\n"
      ]
    },
    {
      "cell_type": "code",
      "metadata": {
        "colab": {
          "base_uri": "https://localhost:8080/"
        },
        "id": "2bsjC4t_rh9M",
        "outputId": "cbde3b9e-2fef-4e82-d174-a0db56bc224f"
      },
      "source": [
        "import json\n",
        "print(\"ADD SALES OF THE PRODUCT:\")\n",
        "\n",
        "\n",
        "fd=open(\"/sales.json\",\"r\");\n",
        "txt=fd.read()\n",
        "sales=json.loads(txt)\n",
        "print(sales)\n",
        "fd.close()\n",
        "p_id=input(\"Enter product id:\")\n",
        "qnt=int(input(\"Enter quantity:\"))\n",
        "price=int(input(\"Enter product price\"))\n",
        "sales[str(i)]={'id':p_id,'qt':qnt,'amount':qnt*price}\n",
        "\n",
        "js=json.dumps(sales)\n",
        "fr=open(\"/sales.json\",\"w\");\n",
        "fr.write(js)\n",
        "fr.close()\n",
        "\n"
      ],
      "execution_count": 51,
      "outputs": [
        {
          "name": "stdout",
          "output_type": "stream",
          "text": [
            "ADD SALES OF THE PRODUCT:\n",
            "{'1': {'id': 2001, 'qt': 2, 'amount': 20}, '2': {'id': 2002, 'qt': 2, 'amount': 40}, '3': {'id': 2003, 'qt': 1, 'amount': 30}}\n",
            "Enter product id:2003\n",
            "Enter quantity:2\n",
            "Enter product price40\n"
          ]
        }
      ]
    }
  ]
}